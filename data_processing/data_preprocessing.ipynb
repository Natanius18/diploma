{
 "metadata": {
  "kernelspec": {
   "language": "python",
   "display_name": "Python 3",
   "name": "python3"
  },
  "language_info": {
   "name": "python",
   "version": "3.10.10",
   "mimetype": "text/x-python",
   "codemirror_mode": {
    "name": "ipython",
    "version": 3
   },
   "pygments_lexer": "ipython3",
   "nbconvert_exporter": "python",
   "file_extension": ".py"
  }
 },
 "nbformat_minor": 4,
 "nbformat": 4,
 "cells": [
  {
   "cell_type": "code",
   "source": [
    "import pandas as pd"
   ],
   "metadata": {
    "_uuid": "8f2839f25d086af736a60e9eeb907d3b93b6e0e5",
    "_cell_guid": "b1076dfc-b9ad-4769-8c92-a6c4dae69d19",
    "_kg_hide-input": true,
    "_kg_hide-output": true,
    "execution": {
     "iopub.status.busy": "2023-09-27T16:30:41.010627Z",
     "iopub.execute_input": "2023-09-27T16:30:41.011704Z",
     "iopub.status.idle": "2023-09-27T16:31:03.495840Z",
     "shell.execute_reply.started": "2023-09-27T16:30:41.011639Z",
     "shell.execute_reply": "2023-09-27T16:31:03.494279Z"
    },
    "trusted": true
   },
   "execution_count": 6,
   "outputs": []
  },
  {
   "cell_type": "markdown",
   "source": [
    "## *Неважливо, наскільки добра буде модель - якщо дати їй неякісні дані, вона не буде працювати*"
   ],
   "metadata": {}
  },
  {
   "cell_type": "code",
   "source": [
    "dataframe = pd.read_excel('../readyDatasets/2018-2023.xlsx')\n",
    "\n",
    "cols = ['spec_num', 'Спеціальність', 'specialization']\n",
    "dataframe['spec_full'] = dataframe[cols].fillna('').apply(lambda row: ' '.join(row.values.astype(str)), axis=1)\n",
    "\n",
    "dataframe.drop(columns=['spec_num', 'Спеціальність', 'specialization', 'Назва закладу', 'Фіксований обсяг',\n",
    "                        'на загальних підставах', 'Усього рекомендовано'], inplace=True)\n",
    "\n",
    "dataframe.dropna(inplace=True)\n",
    "\n",
    "dataframe.columns = dataframe.columns.str.replace('\\n', ' ')\n",
    "dataframe['form'] = dataframe['form'].map({'Заочна': 0, 'Денна': 1})"
   ],
   "metadata": {
    "execution": {
     "iopub.status.busy": "2023-09-27T16:43:50.064989Z",
     "iopub.execute_input": "2023-09-27T16:43:50.065476Z",
     "iopub.status.idle": "2023-09-27T16:43:50.545191Z",
     "shell.execute_reply.started": "2023-09-27T16:43:50.065435Z",
     "shell.execute_reply": "2023-09-27T16:43:50.543846Z"
    },
    "trusted": true
   },
   "execution_count": 7,
   "outputs": []
  },
  {
   "cell_type": "markdown",
   "source": [
    "У нашому датасеті є декілька категоріальних змінних: назва спеціальності органу управління, номер університету та рік. Можна було б застосувати до них метод *pandas.get_dummies()*, щоб перетворити категоріальні змінні на фіктивні змінні, які являють собою числові змінні, що використовуються для представлення категоріальних даних. Але в нашому випадку такий підхід би значно збільшив розмір датасету (аж до 416 стовпчиків), що не є дуже добре. Тому будемо застовувати так званий Target encoding, який не вимагає створення додаткових стовпчиків.                                                                                      "
   ],
   "metadata": {
    "execution": {
     "iopub.status.busy": "2023-06-03T10:03:01.958556Z",
     "iopub.execute_input": "2023-06-03T10:03:01.958983Z",
     "iopub.status.idle": "2023-06-03T10:03:02.005565Z",
     "shell.execute_reply.started": "2023-06-03T10:03:01.958948Z",
     "shell.execute_reply": "2023-06-03T10:03:02.003862Z"
    }
   }
  },
  {
   "cell_type": "markdown",
   "source": [
    "# Target encoding\n",
    "Target encoding передбачає заміну категоріальної ознаки середнім цільовим значенням усіх точок даних, що належать до категорії. \n",
    "\n",
    "Однією з проблем цільового кодування є перенавчання. Деякі також називають це витоком цільової змінної в одну з фіч (Leakage of target). У цих випадках модель із цільовим кодуванням погано узагальнює нові дані. Зменшити перенавчання при цільовому кодуванні можна за допомогою згладжування.\n",
    "\n",
    "Одним із популярних методів згладжування є використання комбінації таргету для категорії та глобального цільового середнього для кожної точки даних. Ця техніка особливо корисна для вирішення ситуацій, коли для деяких категорій дуже мало даних.\n",
    "\n",
    "## Аддитивне згладжування\n",
    "$$\n",
    "\\mu=\\frac{n \\times \\bar{x}+m \\times w}{n+m}\n",
    "$$\n",
    "де\n",
    "- $\\mu$ --- середнє, яке ми намагаємося обчислити (те, яке замінить наші категоріальні значення)\n",
    "- $n$ --- кількість елементів у групі\n",
    "- $\\bar{x}$ --- передбачуване середнє\n",
    "- $m$ ---ваговий коефіцієнт, який застосовується для загального середньго значення\n",
    "- $w$ --- загальне середнє значення\n",
    "\n",
    "У цій формулі $m$ є єдиним параметром, який потрібно встановити. Ідея полягає в тому, що чим вищий $m$, тим більше ми покладаємося на загальне середнє $w$. Якщо $m$ дорівнює 0, тоді отримаємо емпіричне середнє, яке дорівнює:\n",
    "$$\n",
    "\\mu=\\frac{n \\times \\bar{x}+0 \\times w}{n+0}=\\frac{n \\times \\bar{x}}{n}=\\bar{x}\n",
    "$$\n",
    "Іншими словами, в такому випадку згладжування не відбувається.\n",
    "\n",
    "Sources: стаття [Target encoding done the right way](https://maxhalford.github.io/blog/target-encoding/) та [відео пояснення](https://www.youtube.com/watch?v=Bao9GGZMLhU)."
   ],
   "metadata": {}
  },
  {
   "cell_type": "code",
   "source": [
    "def calc_smooth_mean(df, by, m=5):\n",
    "    # Глобальне середнє\n",
    "    mean = df['УСЬОГО'].mean()\n",
    "\n",
    "    # Обчислюємо кількість значень і середнє для кожної групи\n",
    "    agg = df.groupby(by)['УСЬОГО'].agg(['count', 'mean'])\n",
    "    counts = agg['count']\n",
    "    means = agg['mean']\n",
    "\n",
    "    # Згладжені середні\n",
    "    smooth = (counts * means + m * mean) / (counts + m)\n",
    "\n",
    "    # Замінюємо кожне значення відповідним згладженим середнім\n",
    "    return df[by].map(smooth)"
   ],
   "metadata": {
    "execution": {
     "iopub.status.busy": "2023-09-27T16:43:50.546734Z",
     "iopub.execute_input": "2023-09-27T16:43:50.547146Z",
     "iopub.status.idle": "2023-09-27T16:43:50.555780Z",
     "shell.execute_reply.started": "2023-09-27T16:43:50.547113Z",
     "shell.execute_reply": "2023-09-27T16:43:50.554403Z"
    },
    "trusted": true
   },
   "execution_count": 8,
   "outputs": []
  },
  {
   "cell_type": "code",
   "source": [
    "for col in ['spec_full', 'Орган управління', 'uni_code', 'Рік']:\n",
    "    dataframe[col] = calc_smooth_mean(dataframe, by=col)"
   ],
   "metadata": {
    "execution": {
     "iopub.status.busy": "2023-09-27T16:43:50.557798Z",
     "iopub.execute_input": "2023-09-27T16:43:50.558246Z",
     "iopub.status.idle": "2023-09-27T16:43:50.620883Z",
     "shell.execute_reply.started": "2023-09-27T16:43:50.558208Z",
     "shell.execute_reply": "2023-09-27T16:43:50.619496Z"
    },
    "trusted": true
   },
   "execution_count": 9,
   "outputs": []
  },
  {
   "cell_type": "code",
   "execution_count": 11,
   "outputs": [],
   "source": [
    "dataframe.to_csv('readyDatasets/preprocessed_dataframe.csv', index=False)"
   ],
   "metadata": {
    "collapsed": false
   }
  }
 ]
}
