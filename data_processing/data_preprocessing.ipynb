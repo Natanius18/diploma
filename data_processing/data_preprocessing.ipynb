{
 "metadata": {
  "kernelspec": {
   "language": "python",
   "display_name": "Python 3",
   "name": "python3"
  },
  "language_info": {
   "name": "python",
   "version": "3.10.10",
   "mimetype": "text/x-python",
   "codemirror_mode": {
    "name": "ipython",
    "version": 3
   },
   "pygments_lexer": "ipython3",
   "nbconvert_exporter": "python",
   "file_extension": ".py"
  }
 },
 "nbformat_minor": 4,
 "nbformat": 4,
 "cells": [
  {
   "cell_type": "code",
   "source": [
    "import pandas as pd"
   ],
   "metadata": {
    "_uuid": "8f2839f25d086af736a60e9eeb907d3b93b6e0e5",
    "_cell_guid": "b1076dfc-b9ad-4769-8c92-a6c4dae69d19",
    "_kg_hide-input": true,
    "_kg_hide-output": true,
    "execution": {
     "iopub.status.busy": "2023-09-27T16:30:41.010627Z",
     "iopub.execute_input": "2023-09-27T16:30:41.011704Z",
     "iopub.status.idle": "2023-09-27T16:31:03.495840Z",
     "shell.execute_reply.started": "2023-09-27T16:30:41.011639Z",
     "shell.execute_reply": "2023-09-27T16:31:03.494279Z"
    },
    "trusted": true
   },
   "execution_count": 26,
   "outputs": []
  },
  {
   "cell_type": "markdown",
   "source": [
    "## *Неважливо, наскільки добра буде модель - якщо дати їй неякісні дані, вона не буде працювати*"
   ],
   "metadata": {}
  },
  {
   "cell_type": "code",
   "source": [
    "dataframe = pd.read_excel('../readyDatasets/2018-2023.xlsx')\n",
    "\n",
    "cols = ['spec_num', 'Спеціальність', 'specialization']\n",
    "dataframe['spec_full'] = dataframe[cols].fillna('').apply(lambda row: ' '.join(row.values.astype(str)), axis=1)\n",
    "\n",
    "dataframe.drop(columns=['spec_num', 'Спеціальність', 'specialization', 'Назва закладу', 'Фіксований обсяг',\n",
    "                        'на загальних підставах', 'Усього рекомендовано'], inplace=True)\n",
    "\n",
    "dataframe.dropna(inplace=True)\n",
    "\n",
    "dataframe.columns = dataframe.columns.str.replace('\\n', ' ')\n",
    "dataframe['form'] = dataframe['form'].map({'Заочна': 0, 'Денна': 1})"
   ],
   "metadata": {
    "execution": {
     "iopub.status.busy": "2023-09-27T16:43:50.064989Z",
     "iopub.execute_input": "2023-09-27T16:43:50.065476Z",
     "iopub.status.idle": "2023-09-27T16:43:50.545191Z",
     "shell.execute_reply.started": "2023-09-27T16:43:50.065435Z",
     "shell.execute_reply": "2023-09-27T16:43:50.543846Z"
    },
    "trusted": true
   },
   "execution_count": 27,
   "outputs": []
  },
  {
   "cell_type": "markdown",
   "source": [
    "У нашому датасеті є декілька категоріальних змінних: назва спеціальності, органу управління, номер університету та рік. Можна було б застосувати до них метод *pandas.get_dummies()*, щоб перетворити категоріальні змінні на фіктивні змінні, які являють собою числові змінні, що використовуються для представлення категоріальних даних. Але в нашому випадку такий підхід би значно збільшив розмір датасету (аж до 416 стовпчиків), що не є дуже добре. Тому будемо застовувати так званий Target encoding, який не вимагає створення додаткових стовпчиків."
   ],
   "metadata": {
    "execution": {
     "iopub.status.busy": "2023-06-03T10:03:01.958556Z",
     "iopub.execute_input": "2023-06-03T10:03:01.958983Z",
     "iopub.status.idle": "2023-06-03T10:03:02.005565Z",
     "shell.execute_reply.started": "2023-06-03T10:03:01.958948Z",
     "shell.execute_reply": "2023-06-03T10:03:02.003862Z"
    }
   }
  },
  {
   "cell_type": "markdown",
   "source": [
    "# Target encoding\n",
    "Target encoding передбачає заміну категоріальної ознаки середнім цільовим значенням усіх точок даних, що належать до категорії. \n",
    "\n",
    "Однією з проблем цільового кодування є перенавчання. Деякі також називають це витоком цільової змінної в одну з фіч (Leakage of target). У цих випадках модель із цільовим кодуванням погано узагальнює нові дані. Зменшити перенавчання при цільовому кодуванні можна за допомогою згладжування.\n",
    "\n",
    "Одним із популярних методів згладжування є використання комбінації таргету для категорії та глобального цільового середнього для кожної точки даних. Ця техніка особливо корисна для вирішення ситуацій, коли для деяких категорій дуже мало даних.\n",
    "\n",
    "## Аддитивне згладжування\n",
    "$$\n",
    "\\mu=\\frac{n \\times \\bar{x}+m \\times w}{n+m}\n",
    "$$\n",
    "де\n",
    "- $\\mu$ --- середнє, яке ми намагаємося обчислити (те, яке замінить наші категоріальні значення)\n",
    "- $n$ --- кількість елементів у групі\n",
    "- $\\bar{x}$ --- передбачуване середнє\n",
    "- $m$ ---ваговий коефіцієнт, який застосовується для загального середньго значення\n",
    "- $w$ --- загальне середнє значення\n",
    "\n",
    "У цій формулі $m$ є єдиним параметром, який потрібно встановити. Ідея полягає в тому, що чим вищий $m$, тим більше ми покладаємося на загальне середнє $w$. Якщо $m$ дорівнює 0, тоді отримаємо емпіричне середнє, яке дорівнює:\n",
    "$$\n",
    "\\mu=\\frac{n \\times \\bar{x}+0 \\times w}{n+0}=\\frac{n \\times \\bar{x}}{n}=\\bar{x}\n",
    "$$\n",
    "Іншими словами, в такому випадку згладжування не відбувається.\n",
    "\n",
    "Sources: стаття [Target encoding done the right way](https://maxhalford.github.io/blog/target-encoding/) та [відео пояснення](https://www.youtube.com/watch?v=Bao9GGZMLhU)."
   ],
   "metadata": {}
  },
  {
   "cell_type": "code",
   "source": [
    "def calc_smooth_mean(df, by, m=5):\n",
    "    # Глобальне середнє\n",
    "    mean = df['УСЬОГО'].mean()\n",
    "\n",
    "    # Обчислюємо кількість значень і середнє для кожної групи\n",
    "    agg = df.groupby(by)['УСЬОГО'].agg(['count', 'mean'])\n",
    "    counts = agg['count']\n",
    "    means = agg['mean']\n",
    "\n",
    "    # Згладжені середні\n",
    "    smooth = (counts * means + m * mean) / (counts + m)\n",
    "\n",
    "    # Збережемо мапу на майбутнє\n",
    "    df_map = pd.DataFrame()\n",
    "    df_map[by] = df[by]\n",
    "    df_map['smooth_mean'] = df[by].map(smooth)\n",
    "    df_map.drop_duplicates(inplace=True)\n",
    "    df_map.to_csv('../readyDatasets/map_'+by+'_to_smoothed_means.csv', index=False, sep='$')\n",
    "\n",
    "    # Замінюємо кожне значення відповідним згладженим середнім\n",
    "    return df[by].map(smooth)"
   ],
   "metadata": {
    "execution": {
     "iopub.status.busy": "2023-09-27T16:43:50.546734Z",
     "iopub.execute_input": "2023-09-27T16:43:50.547146Z",
     "iopub.status.idle": "2023-09-27T16:43:50.555780Z",
     "shell.execute_reply.started": "2023-09-27T16:43:50.547113Z",
     "shell.execute_reply": "2023-09-27T16:43:50.554403Z"
    },
    "trusted": true
   },
   "execution_count": 28,
   "outputs": []
  },
  {
   "cell_type": "code",
   "source": [
    "for col in ['spec_full', 'Орган управління', 'uni_code', 'Рік']:\n",
    "    dataframe[col] = calc_smooth_mean(dataframe, by=col)"
   ],
   "metadata": {
    "execution": {
     "iopub.status.busy": "2023-09-27T16:43:50.557798Z",
     "iopub.execute_input": "2023-09-27T16:43:50.558246Z",
     "iopub.status.idle": "2023-09-27T16:43:50.620883Z",
     "shell.execute_reply.started": "2023-09-27T16:43:50.558208Z",
     "shell.execute_reply": "2023-09-27T16:43:50.619496Z"
    },
    "trusted": true
   },
   "execution_count": 29,
   "outputs": []
  },
  {
   "cell_type": "code",
   "execution_count": 36,
   "outputs": [
    {
     "data": {
      "text/plain": "    uni_code  form  Орган управління  Усього подано заяв  \\\n0  10.255181     1         19.390828                 373   \n4   6.818932     1         19.390828                 222   \n5   9.035306     1         19.390828                 499   \n6   9.752988     1         19.390828                 369   \n7   6.771794     1         19.390828                 208   \n\n   Подано заяв на бюджет  Допущено до конкурсу  Середній пріоритет допущених  \\\n0                    315                   310                      2.954839   \n4                    194                   192                      2.901042   \n5                    435                   429                      3.095571   \n6                    340                   336                      3.011905   \n7                    177                   173                      2.716763   \n\n   Середній пріоритет рекомендованих  Суперобсяг  \\\n0                           2.761905         525   \n4                           2.000000         525   \n5                           2.628571         525   \n6                           1.840000         525   \n7                           2.257143         525   \n\n   Рекомендовано за співбесідою  ...  Сер. Бал (на загальних підставах)  \\\n0                             0  ...                         164.857200   \n4                             0  ...                         169.566000   \n5                             0  ...                         170.650719   \n6                             0  ...                         176.351348   \n7                             0  ...                         159.607794   \n\n   Макс. Бал (на загальних підставах)        Рік  Макс. обсяг держзамовлення  \\\n0                             174.267  17.696067                        21.0   \n4                             182.564  17.696067                        13.0   \n5                             185.399  17.696067                        35.0   \n6                             194.243  17.696067                        25.0   \n7                             172.380  17.696067                        35.0   \n\n     СЕР    МІН   МАКС  Ліцензійний обсяг  Регіональний коефіцієнт  spec_full  \n0  144.8  113.4  190.9               50.0                     1.04  15.667939  \n4  145.1  117.3  185.8               30.0                     1.07  15.667939  \n5  149.5  110.8  194.2               95.0                     1.00  15.667939  \n6  152.0  111.2  197.0               50.0                     1.00  15.667939  \n7  144.9  111.9  192.2               50.0                     1.00  15.667939  \n\n[5 rows x 25 columns]",
      "text/html": "<div>\n<style scoped>\n    .dataframe tbody tr th:only-of-type {\n        vertical-align: middle;\n    }\n\n    .dataframe tbody tr th {\n        vertical-align: top;\n    }\n\n    .dataframe thead th {\n        text-align: right;\n    }\n</style>\n<table border=\"1\" class=\"dataframe\">\n  <thead>\n    <tr style=\"text-align: right;\">\n      <th></th>\n      <th>uni_code</th>\n      <th>form</th>\n      <th>Орган управління</th>\n      <th>Усього подано заяв</th>\n      <th>Подано заяв на бюджет</th>\n      <th>Допущено до конкурсу</th>\n      <th>Середній пріоритет допущених</th>\n      <th>Середній пріоритет рекомендованих</th>\n      <th>Суперобсяг</th>\n      <th>Рекомендовано за співбесідою</th>\n      <th>...</th>\n      <th>Сер. Бал (на загальних підставах)</th>\n      <th>Макс. Бал (на загальних підставах)</th>\n      <th>Рік</th>\n      <th>Макс. обсяг держзамовлення</th>\n      <th>СЕР</th>\n      <th>МІН</th>\n      <th>МАКС</th>\n      <th>Ліцензійний обсяг</th>\n      <th>Регіональний коефіцієнт</th>\n      <th>spec_full</th>\n    </tr>\n  </thead>\n  <tbody>\n    <tr>\n      <th>0</th>\n      <td>10.255181</td>\n      <td>1</td>\n      <td>19.390828</td>\n      <td>373</td>\n      <td>315</td>\n      <td>310</td>\n      <td>2.954839</td>\n      <td>2.761905</td>\n      <td>525</td>\n      <td>0</td>\n      <td>...</td>\n      <td>164.857200</td>\n      <td>174.267</td>\n      <td>17.696067</td>\n      <td>21.0</td>\n      <td>144.8</td>\n      <td>113.4</td>\n      <td>190.9</td>\n      <td>50.0</td>\n      <td>1.04</td>\n      <td>15.667939</td>\n    </tr>\n    <tr>\n      <th>4</th>\n      <td>6.818932</td>\n      <td>1</td>\n      <td>19.390828</td>\n      <td>222</td>\n      <td>194</td>\n      <td>192</td>\n      <td>2.901042</td>\n      <td>2.000000</td>\n      <td>525</td>\n      <td>0</td>\n      <td>...</td>\n      <td>169.566000</td>\n      <td>182.564</td>\n      <td>17.696067</td>\n      <td>13.0</td>\n      <td>145.1</td>\n      <td>117.3</td>\n      <td>185.8</td>\n      <td>30.0</td>\n      <td>1.07</td>\n      <td>15.667939</td>\n    </tr>\n    <tr>\n      <th>5</th>\n      <td>9.035306</td>\n      <td>1</td>\n      <td>19.390828</td>\n      <td>499</td>\n      <td>435</td>\n      <td>429</td>\n      <td>3.095571</td>\n      <td>2.628571</td>\n      <td>525</td>\n      <td>0</td>\n      <td>...</td>\n      <td>170.650719</td>\n      <td>185.399</td>\n      <td>17.696067</td>\n      <td>35.0</td>\n      <td>149.5</td>\n      <td>110.8</td>\n      <td>194.2</td>\n      <td>95.0</td>\n      <td>1.00</td>\n      <td>15.667939</td>\n    </tr>\n    <tr>\n      <th>6</th>\n      <td>9.752988</td>\n      <td>1</td>\n      <td>19.390828</td>\n      <td>369</td>\n      <td>340</td>\n      <td>336</td>\n      <td>3.011905</td>\n      <td>1.840000</td>\n      <td>525</td>\n      <td>0</td>\n      <td>...</td>\n      <td>176.351348</td>\n      <td>194.243</td>\n      <td>17.696067</td>\n      <td>25.0</td>\n      <td>152.0</td>\n      <td>111.2</td>\n      <td>197.0</td>\n      <td>50.0</td>\n      <td>1.00</td>\n      <td>15.667939</td>\n    </tr>\n    <tr>\n      <th>7</th>\n      <td>6.771794</td>\n      <td>1</td>\n      <td>19.390828</td>\n      <td>208</td>\n      <td>177</td>\n      <td>173</td>\n      <td>2.716763</td>\n      <td>2.257143</td>\n      <td>525</td>\n      <td>0</td>\n      <td>...</td>\n      <td>159.607794</td>\n      <td>172.380</td>\n      <td>17.696067</td>\n      <td>35.0</td>\n      <td>144.9</td>\n      <td>111.9</td>\n      <td>192.2</td>\n      <td>50.0</td>\n      <td>1.00</td>\n      <td>15.667939</td>\n    </tr>\n  </tbody>\n</table>\n<p>5 rows × 25 columns</p>\n</div>"
     },
     "execution_count": 36,
     "metadata": {},
     "output_type": "execute_result"
    }
   ],
   "source": [
    "dataframe.head()"
   ],
   "metadata": {
    "collapsed": false
   }
  },
  {
   "cell_type": "code",
   "execution_count": 11,
   "outputs": [],
   "source": [
    "dataframe.to_csv('readyDatasets/preprocessed_dataframe.csv', index=False)"
   ],
   "metadata": {
    "collapsed": false
   }
  }
 ]
}
