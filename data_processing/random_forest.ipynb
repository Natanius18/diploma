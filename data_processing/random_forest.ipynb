{
 "metadata": {
  "kernelspec": {
   "language": "python",
   "display_name": "Python 3",
   "name": "python3"
  },
  "language_info": {
   "name": "python",
   "version": "3.10.10",
   "mimetype": "text/x-python",
   "codemirror_mode": {
    "name": "ipython",
    "version": 3
   },
   "pygments_lexer": "ipython3",
   "nbconvert_exporter": "python",
   "file_extension": ".py"
  }
 },
 "nbformat_minor": 4,
 "nbformat": 4,
 "cells": [
  {
   "cell_type": "code",
   "source": [
    "from sklearn.ensemble import RandomForestRegressor\n",
    "from sklearn.model_selection import GridSearchCV\n",
    "\n",
    "from tools.common_methods import get_train_test_data, print_results"
   ],
   "metadata": {
    "_uuid": "8f2839f25d086af736a60e9eeb907d3b93b6e0e5",
    "_cell_guid": "b1076dfc-b9ad-4769-8c92-a6c4dae69d19",
    "_kg_hide-input": true,
    "_kg_hide-output": true,
    "execution": {
     "iopub.status.busy": "2023-09-27T16:30:41.010627Z",
     "iopub.execute_input": "2023-09-27T16:30:41.011704Z",
     "iopub.status.idle": "2023-09-27T16:31:03.495840Z",
     "shell.execute_reply.started": "2023-09-27T16:30:41.011639Z",
     "shell.execute_reply": "2023-09-27T16:31:03.494279Z"
    },
    "trusted": true
   },
   "execution_count": 1,
   "outputs": []
  },
  {
   "cell_type": "code",
   "execution_count": 2,
   "outputs": [],
   "source": [
    "X_train, X_test, y_train, y_test = get_train_test_data()"
   ],
   "metadata": {
    "collapsed": false
   }
  },
  {
   "cell_type": "code",
   "execution_count": 20,
   "outputs": [
    {
     "name": "stdout",
     "output_type": "stream",
     "text": [
      "MSE: 53.05728123282293 \tR2 score: 0.9613631159140079\n"
     ]
    }
   ],
   "source": [
    "random_forest = RandomForestRegressor(random_state=1, n_jobs=-1)\n",
    "random_forest.fit(X_train, y_train)\n",
    "\n",
    "y_pred = random_forest.predict(X_test)\n",
    "\n",
    "print_results(y_pred, y_test)"
   ],
   "metadata": {
    "collapsed": false
   }
  },
  {
   "cell_type": "code",
   "execution_count": 4,
   "outputs": [
    {
     "data": {
      "text/plain": "{'max_depth': 17,\n 'max_features': 15,\n 'n_estimators': 100,\n 'n_jobs': -1,\n 'random_state': 1}"
     },
     "execution_count": 4,
     "metadata": {},
     "output_type": "execute_result"
    }
   ],
   "source": [
    "rf_params = {'max_depth': [None, 5, 10, 13, 15, 17],\n",
    "             'random_state': [1],\n",
    "             'n_estimators': [2, 10, 20, 50, 87, 100],\n",
    "             'n_jobs': [-1],\n",
    "             'max_features': [3, 5, 10, 15, 20, 24]\n",
    "             }\n",
    "\n",
    "rf_grid = GridSearchCV(RandomForestRegressor(), rf_params, cv=5, n_jobs=-1, scoring='r2')\n",
    "rf_grid.fit(X_train, y_train)\n",
    "rf_grid.best_params_"
   ],
   "metadata": {
    "collapsed": false
   }
  },
  {
   "cell_type": "code",
   "execution_count": 5,
   "outputs": [
    {
     "name": "stdout",
     "output_type": "stream",
     "text": [
      "MSE: 51.539236703532055 \tR2 score: 0.9667849500468195\n"
     ]
    }
   ],
   "source": [
    "y_pred = rf_grid.best_estimator_.predict(X_test)\n",
    "\n",
    "print_results(y_test, y_pred)"
   ],
   "metadata": {
    "collapsed": false
   }
  },
  {
   "cell_type": "code",
   "execution_count": 7,
   "outputs": [
    {
     "name": "stdout",
     "output_type": "stream",
     "text": [
      "{'max_depth': 16, 'max_features': 13, 'n_estimators': 150, 'n_jobs': -1, 'random_state': 1}\n",
      "MSE: 47.76823004320308 \tR2 score: 0.9692152183745617\n"
     ]
    }
   ],
   "source": [
    "rf_params = {'max_depth': [15, 16, 17, 18, 19, 20],\n",
    "             'random_state': [1],\n",
    "             'n_estimators': [87, 100, 110, 120, 150],\n",
    "             'n_jobs': [-1],\n",
    "             'max_features': [13, 14, 15, 16, 17, 18]\n",
    "             }\n",
    "\n",
    "rf_grid = GridSearchCV(RandomForestRegressor(), rf_params, cv=5, n_jobs=-1, scoring='r2')\n",
    "rf_grid.fit(X_train, y_train)\n",
    "print(rf_grid.best_params_)\n",
    "\n",
    "y_pred = rf_grid.best_estimator_.predict(X_test)\n",
    "print_results(y_test, y_pred)"
   ],
   "metadata": {
    "collapsed": false
   }
  },
  {
   "cell_type": "code",
   "execution_count": 8,
   "outputs": [
    {
     "name": "stdout",
     "output_type": "stream",
     "text": [
      "{'max_depth': 16, 'max_features': 13, 'n_estimators': 150, 'n_jobs': -1, 'random_state': 1}\n",
      "MSE: 47.76823004320308 \tR2 score: 0.9692152183745617\n"
     ]
    }
   ],
   "source": [
    "rf_params = {'max_depth': [15, 16, 17, 18],\n",
    "             'random_state': [1],\n",
    "             'n_estimators': [120, 150, 170, 200, 220],\n",
    "             'n_jobs': [-1],\n",
    "             'max_features': [12, 13, 14, 15, 16]\n",
    "             }\n",
    "\n",
    "rf_grid = GridSearchCV(RandomForestRegressor(), rf_params, cv=5, n_jobs=-1, scoring='r2')\n",
    "rf_grid.fit(X_train, y_train)\n",
    "print(rf_grid.best_params_)\n",
    "\n",
    "y_pred = rf_grid.best_estimator_.predict(X_test)\n",
    "print_results(y_test, y_pred)"
   ],
   "metadata": {
    "collapsed": false
   }
  },
  {
   "cell_type": "code",
   "execution_count": 9,
   "outputs": [
    {
     "name": "stdout",
     "output_type": "stream",
     "text": [
      "{'max_depth': 16, 'max_features': 13, 'n_estimators': 150, 'n_jobs': -1, 'random_state': 1}\n",
      "MSE: 47.76823004320308 \tR2 score: 0.9692152183745617\n"
     ]
    }
   ],
   "source": [
    "rf_params = {'max_depth': [15, 16, 17],\n",
    "             'random_state': [1],\n",
    "             'n_estimators': [140, 145, 150, 155, 160],\n",
    "             'n_jobs': [-1],\n",
    "             'max_features': [12, 13, 14]\n",
    "             }\n",
    "\n",
    "rf_grid = GridSearchCV(RandomForestRegressor(), rf_params, cv=5, n_jobs=-1, scoring='r2')\n",
    "rf_grid.fit(X_train, y_train)\n",
    "print(rf_grid.best_params_)\n",
    "\n",
    "y_pred = rf_grid.best_estimator_.predict(X_test)\n",
    "print_results(y_test, y_pred)"
   ],
   "metadata": {
    "collapsed": false
   }
  },
  {
   "cell_type": "code",
   "execution_count": 10,
   "outputs": [
    {
     "name": "stdout",
     "output_type": "stream",
     "text": [
      "{'max_depth': 16, 'max_features': 13, 'n_estimators': 151, 'n_jobs': -1, 'random_state': 1}\n",
      "MSE: 47.67195155832302 \tR2 score: 0.9692772661441688\n"
     ]
    }
   ],
   "source": [
    "rf_params = {'max_depth': [16],\n",
    "             'random_state': [1],\n",
    "             'n_estimators': [146, 147, 148, 149, 150, 151, 152, 153],\n",
    "             'n_jobs': [-1],\n",
    "             'max_features': [13, 'auto']\n",
    "             }\n",
    "\n",
    "rf_grid = GridSearchCV(RandomForestRegressor(), rf_params, cv=5, n_jobs=-1, scoring='r2')\n",
    "rf_grid.fit(X_train, y_train)\n",
    "print(rf_grid.best_params_)\n",
    "\n",
    "y_pred = rf_grid.best_estimator_.predict(X_test)\n",
    "print_results(y_test, y_pred)"
   ],
   "metadata": {
    "collapsed": false
   }
  },
  {
   "cell_type": "code",
   "execution_count": 19,
   "outputs": [
    {
     "name": "stdout",
     "output_type": "stream",
     "text": [
      "MSE: 47.67195155832302 \tR2 score: 0.9652607765396858\n"
     ]
    }
   ],
   "source": [
    "best_random_forest = RandomForestRegressor(random_state=1, n_jobs=-1, n_estimators=151, max_depth=16, max_features=13)\n",
    "best_random_forest.fit(X_train, y_train)\n",
    "\n",
    "y_pred = best_random_forest.predict(X_test)\n",
    "\n",
    "print_results(y_pred, y_test)"
   ],
   "metadata": {
    "collapsed": false
   }
  }
 ]
}
