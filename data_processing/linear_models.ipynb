{
 "metadata": {
  "kernelspec": {
   "language": "python",
   "display_name": "Python 3",
   "name": "python3"
  },
  "language_info": {
   "name": "python",
   "version": "3.10.10",
   "mimetype": "text/x-python",
   "codemirror_mode": {
    "name": "ipython",
    "version": 3
   },
   "pygments_lexer": "ipython3",
   "nbconvert_exporter": "python",
   "file_extension": ".py"
  }
 },
 "nbformat_minor": 4,
 "nbformat": 4,
 "cells": [
  {
   "cell_type": "code",
   "source": [
    "import numpy as np\n",
    "import pandas as pd\n",
    "from sklearn.linear_model import LinearRegression, Lasso, Ridge, LassoCV, RidgeCV\n",
    "from sklearn.metrics import mean_squared_error, r2_score\n",
    "from sklearn.model_selection import train_test_split"
   ],
   "metadata": {
    "_uuid": "8f2839f25d086af736a60e9eeb907d3b93b6e0e5",
    "_cell_guid": "b1076dfc-b9ad-4769-8c92-a6c4dae69d19",
    "_kg_hide-input": true,
    "_kg_hide-output": true,
    "execution": {
     "iopub.status.busy": "2023-09-27T16:30:41.010627Z",
     "iopub.execute_input": "2023-09-27T16:30:41.011704Z",
     "iopub.status.idle": "2023-09-27T16:31:03.495840Z",
     "shell.execute_reply.started": "2023-09-27T16:30:41.011639Z",
     "shell.execute_reply": "2023-09-27T16:31:03.494279Z"
    },
    "trusted": true
   },
   "execution_count": 1,
   "outputs": []
  },
  {
   "cell_type": "code",
   "source": [
    "clear_df = pd.read_csv('../readyDatasets/preprocessed_dataframe.csv')"
   ],
   "metadata": {
    "execution": {
     "iopub.status.busy": "2023-09-27T16:43:31.086915Z",
     "iopub.execute_input": "2023-09-27T16:43:31.088041Z",
     "iopub.status.idle": "2023-09-27T16:43:50.062520Z",
     "shell.execute_reply.started": "2023-09-27T16:43:31.087986Z",
     "shell.execute_reply": "2023-09-27T16:43:50.060971Z"
    },
    "trusted": true
   },
   "execution_count": 2,
   "outputs": []
  },
  {
   "cell_type": "code",
   "source": [
    "X = clear_df.drop(columns='УСЬОГО')\n",
    "y = clear_df['УСЬОГО']\n",
    "\n",
    "X_train, X_test, y_train, y_test = train_test_split(X, y, test_size=0.25, random_state=13)"
   ],
   "metadata": {
    "execution": {
     "iopub.status.busy": "2023-09-27T16:44:14.325727Z",
     "iopub.execute_input": "2023-09-27T16:44:14.326178Z",
     "iopub.status.idle": "2023-09-27T16:44:14.433572Z",
     "shell.execute_reply.started": "2023-09-27T16:44:14.326139Z",
     "shell.execute_reply": "2023-09-27T16:44:14.432038Z"
    },
    "trusted": true
   },
   "execution_count": 3,
   "outputs": []
  },
  {
   "cell_type": "code",
   "execution_count": 4,
   "outputs": [
    {
     "data": {
      "text/plain": "LinearRegression()"
     },
     "execution_count": 4,
     "metadata": {},
     "output_type": "execute_result"
    }
   ],
   "source": [
    "linreg = LinearRegression()\n",
    "linreg.fit(X_train, y_train)"
   ],
   "metadata": {
    "collapsed": false
   }
  },
  {
   "cell_type": "markdown",
   "source": [
    "# Регуляризація та відсіювання маловпливових ознак\n",
    "Навчимо модель з L1-регуляризацією, щоб вирішити проблему мультиколінеарності. Коефіцієнти при сильно скорельованих ознаках повинні бути близькі до нуля."
   ],
   "metadata": {}
  },
  {
   "cell_type": "code",
   "source": [
    "alphas = np.linspace(0.001, 5, 500)\n",
    "lasso_cv = LassoCV(alphas=alphas, cv=5, max_iter=50000)\n",
    "lasso_cv.fit(X_train, y_train)\n",
    "\n",
    "print('Найменш важливі фічі:', X.columns[np.where(lasso_cv.coef_ == 0)])\n",
    "best = np.where(lasso_cv.coef_ != 0)"
   ],
   "metadata": {
    "execution": {
     "iopub.status.busy": "2023-09-27T16:44:18.045852Z",
     "iopub.execute_input": "2023-09-27T16:44:18.047438Z",
     "iopub.status.idle": "2023-09-27T16:44:33.359881Z",
     "shell.execute_reply.started": "2023-09-27T16:44:18.047369Z",
     "shell.execute_reply": "2023-09-27T16:44:33.358579Z"
    },
    "trusted": true
   },
   "execution_count": 5,
   "outputs": [
    {
     "name": "stdout",
     "output_type": "stream",
     "text": [
      "Найменш важливі фічі: Index(['Середній пріоритет рекомендованих', 'Рекомендовано за співбесідою',\n",
      "       'Регіональний коефіцієнт'],\n",
      "      dtype='object')\n"
     ]
    }
   ]
  },
  {
   "cell_type": "code",
   "execution_count": 6,
   "outputs": [
    {
     "name": "stderr",
     "output_type": "stream",
     "text": [
      "C:\\Users\\natan.chachko\\PycharmProjects\\pythonProject\\venv\\lib\\site-packages\\sklearn\\linear_model\\_coordinate_descent.py:648: ConvergenceWarning: Objective did not converge. You might want to increase the number of iterations, check the scale of the features or consider increasing regularisation. Duality gap: 2.065e+06, tolerance: 2.147e+03\n",
      "  coef_, l1_reg, l2_reg, X, y, max_iter, tol, rng, random, positive\n"
     ]
    },
    {
     "data": {
      "text/plain": "Lasso(alpha=0.04107214428857715)"
     },
     "execution_count": 6,
     "metadata": {},
     "output_type": "execute_result"
    }
   ],
   "source": [
    "lasso = Lasso(alpha=lasso_cv.alpha_)\n",
    "lasso.fit(X_train, y_train)"
   ],
   "metadata": {
    "collapsed": false
   }
  },
  {
   "cell_type": "code",
   "source": [
    "alphas = np.linspace(0.01, 1000, 2000)\n",
    "ridge_cv = RidgeCV(alphas=alphas, cv=5)\n",
    "ridge_cv.fit(X_train[X.columns[best]], y_train)\n",
    "pd.DataFrame(ridge_cv.coef_, X.columns[best], columns=[\"coef\"]).sort_values(by=\"coef\", ascending=False)"
   ],
   "metadata": {
    "execution": {
     "iopub.status.busy": "2023-09-27T16:44:33.522201Z",
     "iopub.execute_input": "2023-09-27T16:44:33.527450Z",
     "iopub.status.idle": "2023-09-27T16:48:14.031640Z",
     "shell.execute_reply.started": "2023-09-27T16:44:33.527353Z",
     "shell.execute_reply": "2023-09-27T16:48:14.029759Z"
    },
    "trusted": true
   },
   "execution_count": 7,
   "outputs": [
    {
     "data": {
      "text/plain": "                                                        coef\nСередній пріорітет рекомендованих на загальних ...  1.151872\nквота-1                                             1.075106\nform                                                0.613948\nМакс. обсяг держзамовлення                          0.530231\nМакс. Бал (на загальних підставах)                  0.477355\nДопущено до конкурсу                                0.260255\nСЕР                                                 0.200119\nРік                                                 0.178662\nuni_code                                            0.176887\nspec_full                                           0.112935\nОрган управління                                    0.083278\nСуперобсяг                                          0.000398\nМІН                                                -0.017940\nУсього подано заяв                                 -0.031437\nЛіцензійний обсяг                                  -0.049782\nРекомендовано за квотою-2                          -0.053281\nПодано заяв на бюджет                              -0.146005\nМАКС                                               -0.190538\nСер. Бал (на загальних підставах)                  -0.192412\nМін. Бал (на загальних підставах)                  -0.324491\nСередній пріоритет допущених                       -2.771674",
      "text/html": "<div>\n<style scoped>\n    .dataframe tbody tr th:only-of-type {\n        vertical-align: middle;\n    }\n\n    .dataframe tbody tr th {\n        vertical-align: top;\n    }\n\n    .dataframe thead th {\n        text-align: right;\n    }\n</style>\n<table border=\"1\" class=\"dataframe\">\n  <thead>\n    <tr style=\"text-align: right;\">\n      <th></th>\n      <th>coef</th>\n    </tr>\n  </thead>\n  <tbody>\n    <tr>\n      <th>Середній пріорітет рекомендованих на загальних підставах</th>\n      <td>1.151872</td>\n    </tr>\n    <tr>\n      <th>квота-1</th>\n      <td>1.075106</td>\n    </tr>\n    <tr>\n      <th>form</th>\n      <td>0.613948</td>\n    </tr>\n    <tr>\n      <th>Макс. обсяг держзамовлення</th>\n      <td>0.530231</td>\n    </tr>\n    <tr>\n      <th>Макс. Бал (на загальних підставах)</th>\n      <td>0.477355</td>\n    </tr>\n    <tr>\n      <th>Допущено до конкурсу</th>\n      <td>0.260255</td>\n    </tr>\n    <tr>\n      <th>СЕР</th>\n      <td>0.200119</td>\n    </tr>\n    <tr>\n      <th>Рік</th>\n      <td>0.178662</td>\n    </tr>\n    <tr>\n      <th>uni_code</th>\n      <td>0.176887</td>\n    </tr>\n    <tr>\n      <th>spec_full</th>\n      <td>0.112935</td>\n    </tr>\n    <tr>\n      <th>Орган управління</th>\n      <td>0.083278</td>\n    </tr>\n    <tr>\n      <th>Суперобсяг</th>\n      <td>0.000398</td>\n    </tr>\n    <tr>\n      <th>МІН</th>\n      <td>-0.017940</td>\n    </tr>\n    <tr>\n      <th>Усього подано заяв</th>\n      <td>-0.031437</td>\n    </tr>\n    <tr>\n      <th>Ліцензійний обсяг</th>\n      <td>-0.049782</td>\n    </tr>\n    <tr>\n      <th>Рекомендовано за квотою-2</th>\n      <td>-0.053281</td>\n    </tr>\n    <tr>\n      <th>Подано заяв на бюджет</th>\n      <td>-0.146005</td>\n    </tr>\n    <tr>\n      <th>МАКС</th>\n      <td>-0.190538</td>\n    </tr>\n    <tr>\n      <th>Сер. Бал (на загальних підставах)</th>\n      <td>-0.192412</td>\n    </tr>\n    <tr>\n      <th>Мін. Бал (на загальних підставах)</th>\n      <td>-0.324491</td>\n    </tr>\n    <tr>\n      <th>Середній пріоритет допущених</th>\n      <td>-2.771674</td>\n    </tr>\n  </tbody>\n</table>\n</div>"
     },
     "execution_count": 7,
     "metadata": {},
     "output_type": "execute_result"
    }
   ]
  },
  {
   "cell_type": "code",
   "execution_count": 8,
   "outputs": [
    {
     "data": {
      "text/plain": "Ridge(alpha=262.13844422211105)"
     },
     "execution_count": 8,
     "metadata": {},
     "output_type": "execute_result"
    }
   ],
   "source": [
    "ridge = Ridge(alpha=ridge_cv.alpha_)\n",
    "ridge.fit(X_train[X.columns[best]], y_train)"
   ],
   "metadata": {
    "collapsed": false
   }
  },
  {
   "cell_type": "code",
   "source": [
    "y_pred = linreg.predict(X_test)\n",
    "y_pred_lasso = lasso.predict(X_test)\n",
    "y_pred_ridge = ridge.predict(X_test[X.columns[best]])\n",
    "\n",
    "print(\"Linear regr:\\t MSE =\", mean_squared_error(y_test, y_pred), '\\t R2 =', r2_score(y_test, y_pred))\n",
    "print(\"Lasso:\\t\\t\\t MSE =\", mean_squared_error(y_test, y_pred_lasso), '\\t R2 =', r2_score(y_test, y_pred_lasso))\n",
    "print(\"Ridge:\\t\\t\\t MSE =\", mean_squared_error(y_test, y_pred_ridge), '\\t R2 =', r2_score(y_test, y_pred_ridge))"
   ],
   "metadata": {
    "execution": {
     "iopub.status.busy": "2023-09-27T16:48:14.042095Z",
     "iopub.execute_input": "2023-09-27T16:48:14.047543Z",
     "iopub.status.idle": "2023-09-27T16:48:14.119769Z",
     "shell.execute_reply.started": "2023-09-27T16:48:14.047439Z",
     "shell.execute_reply": "2023-09-27T16:48:14.118046Z"
    },
    "trusted": true
   },
   "execution_count": 10,
   "outputs": [
    {
     "name": "stdout",
     "output_type": "stream",
     "text": [
      "Linear regr:\t MSE = 275.79128785392237 \t R2 = 0.8222631534996667\n",
      "Lasso:\t\t\t MSE = 275.30546391916175 \t R2 = 0.822576248285186\n",
      "Ridge:\t\t\t MSE = 275.97643746072777 \t R2 = 0.8221438317201412\n"
     ]
    }
   ]
  }
 ]
}
