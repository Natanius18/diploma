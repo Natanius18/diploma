{
 "metadata": {
  "kernelspec": {
   "language": "python",
   "display_name": "Python 3",
   "name": "python3"
  },
  "language_info": {
   "name": "python",
   "version": "3.10.10",
   "mimetype": "text/x-python",
   "codemirror_mode": {
    "name": "ipython",
    "version": 3
   },
   "pygments_lexer": "ipython3",
   "nbconvert_exporter": "python",
   "file_extension": ".py"
  }
 },
 "nbformat_minor": 4,
 "nbformat": 4,
 "cells": [
  {
   "cell_type": "code",
   "source": [
    "import numpy as np\n",
    "import pandas as pd\n",
    "from sklearn.metrics import mean_squared_error\n",
    "from sklearn.tree import DecisionTreeRegressor\n",
    "from sklearn.metrics import r2_score\n",
    "from sklearn.model_selection import GridSearchCV, train_test_split\n",
    "import warnings\n",
    "import time"
   ],
   "metadata": {
    "_uuid": "8f2839f25d086af736a60e9eeb907d3b93b6e0e5",
    "_cell_guid": "b1076dfc-b9ad-4769-8c92-a6c4dae69d19",
    "_kg_hide-input": true,
    "_kg_hide-output": true,
    "execution": {
     "iopub.status.busy": "2023-09-27T16:30:41.010627Z",
     "iopub.execute_input": "2023-09-27T16:30:41.011704Z",
     "iopub.status.idle": "2023-09-27T16:31:03.495840Z",
     "shell.execute_reply.started": "2023-09-27T16:30:41.011639Z",
     "shell.execute_reply": "2023-09-27T16:31:03.494279Z"
    },
    "trusted": true
   },
   "execution_count": 9,
   "outputs": []
  },
  {
   "cell_type": "code",
   "source": [
    "clear_df = pd.read_csv('readyDatasets/preprocessed_dataframe.csv')"
   ],
   "metadata": {
    "execution": {
     "iopub.status.busy": "2023-09-27T16:43:31.086915Z",
     "iopub.execute_input": "2023-09-27T16:43:31.088041Z",
     "iopub.status.idle": "2023-09-27T16:43:50.062520Z",
     "shell.execute_reply.started": "2023-09-27T16:43:31.087986Z",
     "shell.execute_reply": "2023-09-27T16:43:50.060971Z"
    },
    "trusted": true
   },
   "execution_count": 10,
   "outputs": []
  },
  {
   "cell_type": "code",
   "execution_count": 11,
   "outputs": [],
   "source": [
    "X = clear_df.drop(columns='УСЬОГО')\n",
    "y = clear_df['УСЬОГО']\n",
    "\n",
    "X_train, X_test, y_train, y_test = train_test_split(X, y, test_size=0.25, random_state=13)"
   ],
   "metadata": {
    "collapsed": false
   }
  },
  {
   "cell_type": "code",
   "execution_count": 12,
   "outputs": [
    {
     "name": "stdout",
     "output_type": "stream",
     "text": [
      "MSE: 156.003337259521\n",
      "R2 score: 0.8994618668929035\n"
     ]
    }
   ],
   "source": [
    "# Initializing the Decision Tree Regression model\n",
    "reg_decision_model = DecisionTreeRegressor()\n",
    "reg_decision_model.fit(X_train, y_train)\n",
    "\n",
    "# Predicting the target values of the test set\n",
    "y_pred = reg_decision_model.predict(X_test)\n",
    "\n",
    "mse = mean_squared_error(y_test, y_pred)\n",
    "r2 = r2_score(y_test, y_pred)\n",
    "\n",
    "print(\"MSE:\", mse)\n",
    "print(\"R2 score:\", r2)"
   ],
   "metadata": {
    "collapsed": false
   }
  },
  {
   "cell_type": "code",
   "execution_count": 13,
   "outputs": [],
   "source": [
    "parameters = {\"splitter\": [\"best\", \"random\"],\n",
    "              \"max_depth\": np.arange(2, 30, 2),\n",
    "              \"min_samples_leaf\": np.arange(1, 20),\n",
    "              \"min_weight_fraction_leaf\": np.arange(0.1, 0.9, 0.1),\n",
    "              \"max_features\": [\"log2\", \"sqrt\", 15, 20, 22, None],\n",
    "              \"max_leaf_nodes\": [None, 50, 80, 90, 100, 150, 200]}\n",
    "\n",
    "tuning_model = GridSearchCV(DecisionTreeRegressor(), parameters, cv=5)"
   ],
   "metadata": {
    "collapsed": false
   }
  },
  {
   "cell_type": "code",
   "execution_count": null,
   "outputs": [],
   "source": [
    "warnings.simplefilter('ignore', FutureWarning)\n",
    "\n",
    "start_time = time.time()\n",
    "tuning_model.fit(X_train, y_train)\n",
    "print('computation time: %.2f' % (time.time() - start_time))\n",
    "print(tuning_model.best_params_)\n",
    "print(tuning_model.best_score_)"
   ],
   "metadata": {
    "collapsed": false,
    "pycharm": {
     "is_executing": true
    }
   }
  },
  {
   "cell_type": "markdown",
   "source": [
    "тестирую с другого сайта"
   ],
   "metadata": {
    "collapsed": false
   }
  },
  {
   "cell_type": "code",
   "execution_count": null,
   "outputs": [],
   "source": [
    "# setup parameter space\n",
    "parameters = {'criterion': ['squared_error', 'absolute_error'],\n",
    "              'max_depth': np.arange(1, 21, 2),\n",
    "              'min_samples_split': np.arange(2, 11, 2),\n",
    "              'max_leaf_nodes': np.arange(3, 26, 2)}\n",
    "\n",
    "# create an instance of the grid search object\n",
    "g2 = GridSearchCV(DecisionTreeRegressor(), parameters, cv=5)\n",
    "\n",
    "# conduct grid search over the parameter space\n",
    "start_time = time.time()\n",
    "g2.fit(X_train, y_train)\n",
    "duration = time.time() - start_time\n",
    "\n",
    "# show the best parameter configuration found for regressor\n",
    "g2.best_params_"
   ],
   "metadata": {
    "collapsed": false,
    "pycharm": {
     "is_executing": true
    }
   }
  },
  {
   "cell_type": "code",
   "execution_count": null,
   "outputs": [],
   "source": [
    "from sklearn.metrics import mean_absolute_error\n",
    "\n",
    "# compute performance on test set\n",
    "model = g2.best_estimator_\n",
    "y_pred = model.predict(X_test)\n",
    "print('mse score: %.2f' % mean_squared_error(y_test, y_pred))\n",
    "print('mae score: %.2f' % mean_absolute_error(y_test, y_pred))\n",
    "print('computation time: %.2f' % duration)"
   ],
   "metadata": {
    "collapsed": false,
    "pycharm": {
     "is_executing": true
    }
   }
  },
  {
   "cell_type": "markdown",
   "source": [],
   "metadata": {
    "collapsed": false
   }
  }
 ]
}
